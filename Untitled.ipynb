{
 "cells": [
  {
   "cell_type": "code",
   "execution_count": 2,
   "id": "dc413e2c",
   "metadata": {},
   "outputs": [],
   "source": [
    "import argparse\n",
    "import matplotlib.pyplot as plt\n",
    "import numpy as np\n",
    "import pandas as pd\n",
    "import seaborn as sb\n",
    "import pickle\n",
    "from scipy.linalg import block_diag\n",
    "import networkx as nx\n",
    "\n",
    "import sys, os\n",
    "\n",
    "import matplotlib.pyplot as plt\n",
    "import networkx as nx\n",
    "from sklearn.metrics import mean_squared_error, r2_score\n",
    "from sklearn.model_selection import KFold\n"
   ]
  },
  {
   "cell_type": "code",
   "execution_count": 4,
   "id": "bad3e061",
   "metadata": {},
   "outputs": [],
   "source": [
    "\n",
    "file_name = \"/Users/cdonnat/Dropbox/network_regularisation/data/COVID/county_adjacency.txt\"\n",
    "file1 = open(file_name, \"r\")\n",
    "str1=file1.read()\n",
    "file1.close()\n",
    "all_lines= str1.split(\"\\n\")\n",
    "\n",
    "county_adjacency = {}\n",
    "county_names = {}\n",
    "for k, line in enumerate(all_lines):\n",
    "    if len(line)>0:\n",
    "        s = line.replace('\"', '').split(\"\\t\")\n",
    "        if s[3] not in county_names.keys():\n",
    "            county_names[s[3]] = s[2]\n",
    "        if len(s[0]) > 0 :\n",
    "            if s[1] not in county_names.keys():\n",
    "                county_names[s[1]] = s[0]\n",
    "            prev_county = s[0]\n",
    "            county_adjacency[prev_county] = [s[2]]\n",
    "        else:\n",
    "            county_adjacency[prev_county] += [s[2]]\n",
    "\n",
    "county_id = {county_names[v].replace('\"', ''): v for k, v in enumerate(county_names)}\n"
   ]
  },
  {
   "cell_type": "code",
   "execution_count": 6,
   "id": "435444b7",
   "metadata": {},
   "outputs": [
    {
     "data": {
      "text/plain": [
       "3234"
      ]
     },
     "execution_count": 6,
     "metadata": {},
     "output_type": "execute_result"
    }
   ],
   "source": [
    "len(county_id)"
   ]
  },
  {
   "cell_type": "code",
   "execution_count": 24,
   "id": "f27537c1",
   "metadata": {},
   "outputs": [
    {
     "ename": "KeyError",
     "evalue": "'Otter Tail County, MN'",
     "output_type": "error",
     "traceback": [
      "\u001b[0;31m---------------------------------------------------------------------------\u001b[0m",
      "\u001b[0;31mKeyError\u001b[0m                                  Traceback (most recent call last)",
      "Input \u001b[0;32mIn [24]\u001b[0m, in \u001b[0;36m<cell line: 1>\u001b[0;34m()\u001b[0m\n\u001b[0;32m----> 1\u001b[0m \u001b[43mcounty_adjacency\u001b[49m\u001b[43m[\u001b[49m\u001b[38;5;124;43m'\u001b[39;49m\u001b[38;5;124;43mOtter Tail County, MN\u001b[39;49m\u001b[38;5;124;43m'\u001b[39;49m\u001b[43m]\u001b[49m\n",
      "\u001b[0;31mKeyError\u001b[0m: 'Otter Tail County, MN'"
     ]
    }
   ],
   "source": [
    "county_adjacency['Otter Tail County, MN']"
   ]
  },
  {
   "cell_type": "code",
   "execution_count": 12,
   "id": "d87073ce",
   "metadata": {},
   "outputs": [],
   "source": [
    "adjacency = pd.DataFrame(np.zeros((len(county_id), len(county_id))),\n",
    "                                      index=county_id.keys(),\n",
    "                                      columns=county_id.keys())"
   ]
  },
  {
   "cell_type": "code",
   "execution_count": 29,
   "id": "0d696d51",
   "metadata": {},
   "outputs": [
    {
     "data": {
      "text/plain": [
       "array([1110, 1112, 1665, 1690, 1691, 1696])"
      ]
     },
     "execution_count": 29,
     "metadata": {},
     "output_type": "execute_result"
    }
   ],
   "source": [
    "np.where(adjacency[\"Watonwan County, MN\"] >0)[0]"
   ]
  },
  {
   "cell_type": "code",
   "execution_count": 31,
   "id": "67f38a32",
   "metadata": {},
   "outputs": [
    {
     "data": {
      "text/plain": [
       "Jackson County, MN       1.0\n",
       "Martin County, MN        1.0\n",
       "Washington County, MN    1.0\n",
       "Blue Earth County, MN    1.0\n",
       "Brown County, MN         1.0\n",
       "Cottonwood County, MN    1.0\n",
       "Name: Watonwan County, MN, dtype: float64"
      ]
     },
     "execution_count": 31,
     "metadata": {},
     "output_type": "execute_result"
    }
   ],
   "source": [
    "adjacency[\"Watonwan County, MN\"].iloc[[1110, 1112, 1665, 1690, 1691, 1696]]"
   ]
  },
  {
   "cell_type": "code",
   "execution_count": 13,
   "id": "853889e8",
   "metadata": {},
   "outputs": [
    {
     "name": "stdout",
     "output_type": "stream",
     "text": [
      "here\n",
      "Otter Tail County, MN\n",
      "here\n",
      "Watonwan County, MN\n",
      "1.0\n"
     ]
    }
   ],
   "source": [
    "for c in county_id.keys():\n",
    "        try:\n",
    "            for cc in county_adjacency[c]:\n",
    "                adjacency.loc[c][cc] = 1.\n",
    "        except:\n",
    "            print(\"here\")\n",
    "            print(c)\n",
    "if (adjacency==adjacency.T).mean().mean() != 1:\n",
    "        adjacency = adjacency + adjacency.T\n",
    "        adjacency.values[adjacency.values>1] =1\n",
    "print((adjacency==adjacency.T).mean().mean())"
   ]
  },
  {
   "cell_type": "code",
   "execution_count": 32,
   "id": "2e35a865",
   "metadata": {},
   "outputs": [],
   "source": [
    "adjacency.to_csv(\"~/Documents/counties_adjacency.csv\")"
   ]
  },
  {
   "cell_type": "code",
   "execution_count": null,
   "id": "aa5368f0",
   "metadata": {},
   "outputs": [],
   "source": [
    "state = args.state\n",
    "if True:\n",
    "\n",
    "    counties_per_state[state] = [k for k in county_id.keys() if k.split(\", \")[1] == state]\n",
    "    adjacencies[state] = pd.DataFrame(np.zeros((len(counties_per_state[state]), len(counties_per_state[state]))),\n",
    "                                      index=counties_per_state[state],\n",
    "                                      columns=counties_per_state[state])\n",
    "    for c in counties_per_state[state]:\n",
    "        try:\n",
    "            for cc in county_adjacency[c]:\n",
    "                adjacencies[state].loc[c][cc] = 1.\n",
    "        except:\n",
    "            print(c)\n",
    "    if (adjacencies[state]==adjacencies[state].T).mean().mean() != 1:\n",
    "        adjacencies[state] = adjacencies[state] + adjacencies[state].T\n",
    "        adjacencies[state].values[adjacencies[state].values>1] =1\n",
    "    print(state, (adjacencies[state]==adjacencies[state].T).mean().mean())"
   ]
  }
 ],
 "metadata": {
  "kernelspec": {
   "display_name": "Python 3 (ipykernel)",
   "language": "python",
   "name": "python3"
  },
  "language_info": {
   "codemirror_mode": {
    "name": "ipython",
    "version": 3
   },
   "file_extension": ".py",
   "mimetype": "text/x-python",
   "name": "python",
   "nbconvert_exporter": "python",
   "pygments_lexer": "ipython3",
   "version": "3.8.5"
  }
 },
 "nbformat": 4,
 "nbformat_minor": 5
}
